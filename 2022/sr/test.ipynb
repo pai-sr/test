{
 "cells": [
  {
   "cell_type": "code",
   "execution_count": 12,
   "metadata": {
    "collapsed": true
   },
   "outputs": [],
   "source": [
    "import sys\n",
    "sys.path.append('/Users/sr-pai/Documents/GitHub/elasticsearch_toktok')"
   ]
  },
  {
   "cell_type": "code",
   "execution_count": 13,
   "outputs": [],
   "source": [
    "from elastic_query import toktok_elastic"
   ],
   "metadata": {
    "collapsed": false,
    "pycharm": {
     "name": "#%%\n"
    }
   }
  },
  {
   "cell_type": "code",
   "execution_count": 14,
   "outputs": [],
   "source": [
    "tok_es = toktok_elastic(commit_query=True)"
   ],
   "metadata": {
    "collapsed": false,
    "pycharm": {
     "name": "#%%\n"
    }
   }
  },
  {
   "cell_type": "code",
   "execution_count": null,
   "outputs": [],
   "source": [],
   "metadata": {
    "collapsed": false,
    "pycharm": {
     "name": "#%%\n"
    }
   }
  },
  {
   "cell_type": "code",
   "execution_count": 15,
   "outputs": [],
   "source": [
    "_cmmnty_id = 'CMMNTY_0000000005402'\n",
    "_student_id = 'aju3401@gne.go.kr'\n",
    "_start_date = \"2021-10-01\"\n",
    "_end_date = \"2021-11-30\""
   ],
   "metadata": {
    "collapsed": false,
    "pycharm": {
     "name": "#%%\n"
    }
   }
  },
  {
   "cell_type": "code",
   "execution_count": 16,
   "outputs": [
    {
     "name": "stdout",
     "output_type": "stream",
     "text": [
      "134 (ms) 소요\n"
     ]
    }
   ],
   "source": [
    "result = tok_es.comm_index_per_student(_cmmnty_id, _start_date, _end_date, 'week')"
   ],
   "metadata": {
    "collapsed": false,
    "pycharm": {
     "name": "#%%\n"
    }
   }
  },
  {
   "cell_type": "code",
   "execution_count": 17,
   "outputs": [
    {
     "data": {
      "text/plain": "{'comm_over_date': {'buckets': [{'key_as_string': '2021-10-25T00:00:00.000Z',\n    'key': 1635120000000,\n    'doc_count': 93,\n    'comm_per_student': {'doc_count_error_upper_bound': 0,\n     'sum_other_doc_count': 9,\n     'buckets': [{'key': 'aju3401@gne.go.kr',\n       'doc_count': 18,\n       'comment': {'value': 11},\n       'reply': {'value': 4},\n       'good': {'value': 7},\n       'minmax_comment': {'value': 1.0, 'value_as_string': '100.00%'},\n       'minmax_reply': {'value': 1.0, 'value_as_string': '100.00%'},\n       'minmax_good': {'value': 1.0, 'value_as_string': '100.00%'},\n       'comm_index': {'value': 3.0}},\n      {'key': 'aju3406@gne.go.kr',\n       'doc_count': 10,\n       'comment': {'value': 10},\n       'reply': {'value': 0},\n       'good': {'value': 0},\n       'minmax_comment': {'value': 0.9090909090909091,\n        'value_as_string': '90.91%'},\n       'minmax_reply': {'value': 0.0, 'value_as_string': '00.00%'},\n       'minmax_good': {'value': 0.0, 'value_as_string': '00.00%'},\n       'comm_index': {'value': 0.9090909090909091}},\n      {'key': 'aju3411@gne.go.kr',\n       'doc_count': 9,\n       'comment': {'value': 8},\n       'reply': {'value': 0},\n       'good': {'value': 1},\n       'minmax_comment': {'value': 0.7272727272727273,\n        'value_as_string': '72.73%'},\n       'minmax_reply': {'value': 0.0, 'value_as_string': '00.00%'},\n       'minmax_good': {'value': 0.14285714285714285,\n        'value_as_string': '14.29%'},\n       'comm_index': {'value': 0.8701298701298701}},\n      {'key': 'aju3408@gne.go.kr',\n       'doc_count': 5,\n       'comment': {'value': 2},\n       'reply': {'value': 0},\n       'good': {'value': 3},\n       'minmax_comment': {'value': 0.18181818181818182,\n        'value_as_string': '18.18%'},\n       'minmax_reply': {'value': 0.0, 'value_as_string': '00.00%'},\n       'minmax_good': {'value': 0.42857142857142855,\n        'value_as_string': '42.86%'},\n       'comm_index': {'value': 0.6103896103896104}},\n      {'key': 'aju3407@gne.go.kr',\n       'doc_count': 4,\n       'comment': {'value': 2},\n       'reply': {'value': 0},\n       'good': {'value': 2},\n       'minmax_comment': {'value': 0.18181818181818182,\n        'value_as_string': '18.18%'},\n       'minmax_reply': {'value': 0.0, 'value_as_string': '00.00%'},\n       'minmax_good': {'value': 0.2857142857142857,\n        'value_as_string': '28.57%'},\n       'comm_index': {'value': 0.4675324675324675}},\n      {'key': 'aju3410@gne.go.kr',\n       'doc_count': 4,\n       'comment': {'value': 4},\n       'reply': {'value': 1},\n       'good': {'value': 0},\n       'minmax_comment': {'value': 0.36363636363636365,\n        'value_as_string': '36.36%'},\n       'minmax_reply': {'value': 0.25, 'value_as_string': '25.00%'},\n       'minmax_good': {'value': 0.0, 'value_as_string': '00.00%'},\n       'comm_index': {'value': 0.6136363636363636}},\n      {'key': 'aju3414@gne.go.kr',\n       'doc_count': 4,\n       'comment': {'value': 4},\n       'reply': {'value': 0},\n       'good': {'value': 0},\n       'minmax_comment': {'value': 0.36363636363636365,\n        'value_as_string': '36.36%'},\n       'minmax_reply': {'value': 0.0, 'value_as_string': '00.00%'},\n       'minmax_good': {'value': 0.0, 'value_as_string': '00.00%'},\n       'comm_index': {'value': 0.36363636363636365}},\n      {'key': 'aju3415@gne.go.kr',\n       'doc_count': 4,\n       'comment': {'value': 4},\n       'reply': {'value': 0},\n       'good': {'value': 0},\n       'minmax_comment': {'value': 0.36363636363636365,\n        'value_as_string': '36.36%'},\n       'minmax_reply': {'value': 0.0, 'value_as_string': '00.00%'},\n       'minmax_good': {'value': 0.0, 'value_as_string': '00.00%'},\n       'comm_index': {'value': 0.36363636363636365}},\n      {'key': 'aju3422@gne.go.kr',\n       'doc_count': 3,\n       'comment': {'value': 3},\n       'reply': {'value': 0},\n       'good': {'value': 0},\n       'minmax_comment': {'value': 0.2727272727272727,\n        'value_as_string': '27.27%'},\n       'minmax_reply': {'value': 0.0, 'value_as_string': '00.00%'},\n       'minmax_good': {'value': 0.0, 'value_as_string': '00.00%'},\n       'comm_index': {'value': 0.2727272727272727}},\n      {'key': 'aju3402@gne.go.kr',\n       'doc_count': 2,\n       'comment': {'value': 0},\n       'reply': {'value': 0},\n       'good': {'value': 2},\n       'minmax_comment': {'value': 0.0, 'value_as_string': '00.00%'},\n       'minmax_reply': {'value': 0.0, 'value_as_string': '00.00%'},\n       'minmax_good': {'value': 0.2857142857142857,\n        'value_as_string': '28.57%'},\n       'comm_index': {'value': 0.2857142857142857}}]}},\n   {'key_as_string': '2021-11-01T00:00:00.000Z',\n    'key': 1635724800000,\n    'doc_count': 467,\n    'comm_per_student': {'doc_count_error_upper_bound': 0,\n     'sum_other_doc_count': 0,\n     'buckets': [{'key': 'aju3423@gne.go.kr',\n       'doc_count': 204,\n       'comment': {'value': 162},\n       'reply': {'value': 24},\n       'good': {'value': 42},\n       'minmax_comment': {'value': 1.0, 'value_as_string': '100.00%'},\n       'minmax_reply': {'value': 0.8888888888888888,\n        'value_as_string': '88.89%'},\n       'minmax_good': {'value': 1.0, 'value_as_string': '100.00%'},\n       'comm_index': {'value': 2.888888888888889}},\n      {'key': 'aju3406@gne.go.kr',\n       'doc_count': 162,\n       'comment': {'value': 123},\n       'reply': {'value': 27},\n       'good': {'value': 39},\n       'minmax_comment': {'value': 0.7592592592592593,\n        'value_as_string': '75.93%'},\n       'minmax_reply': {'value': 1.0, 'value_as_string': '100.00%'},\n       'minmax_good': {'value': 0.9285714285714286,\n        'value_as_string': '92.86%'},\n       'comm_index': {'value': 2.687830687830688}},\n      {'key': 'aju3411@gne.go.kr',\n       'doc_count': 25,\n       'comment': {'value': 22},\n       'reply': {'value': 0},\n       'good': {'value': 3},\n       'minmax_comment': {'value': 0.13580246913580246,\n        'value_as_string': '13.58%'},\n       'minmax_reply': {'value': 0.0, 'value_as_string': '00.00%'},\n       'minmax_good': {'value': 0.07142857142857142,\n        'value_as_string': '07.14%'},\n       'comm_index': {'value': 0.2072310405643739}},\n      {'key': 'aju3425@gne.go.kr',\n       'doc_count': 8,\n       'comment': {'value': 2},\n       'reply': {'value': 0},\n       'good': {'value': 6},\n       'minmax_comment': {'value': 0.012345679012345678,\n        'value_as_string': '01.23%'},\n       'minmax_reply': {'value': 0.0, 'value_as_string': '00.00%'},\n       'minmax_good': {'value': 0.14285714285714285,\n        'value_as_string': '14.29%'},\n       'comm_index': {'value': 0.15520282186948853}},\n      {'key': 'aju3417@gne.go.kr',\n       'doc_count': 5,\n       'comment': {'value': 5},\n       'reply': {'value': 2},\n       'good': {'value': 0},\n       'minmax_comment': {'value': 0.030864197530864196,\n        'value_as_string': '03.09%'},\n       'minmax_reply': {'value': 0.07407407407407407,\n        'value_as_string': '07.41%'},\n       'minmax_good': {'value': 0.0, 'value_as_string': '00.00%'},\n       'comm_index': {'value': 0.10493827160493827}},\n      {'key': 'aju3401@gne.go.kr',\n       'doc_count': 4,\n       'comment': {'value': 3},\n       'reply': {'value': 2},\n       'good': {'value': 1},\n       'minmax_comment': {'value': 0.018518518518518517,\n        'value_as_string': '01.85%'},\n       'minmax_reply': {'value': 0.07407407407407407,\n        'value_as_string': '07.41%'},\n       'minmax_good': {'value': 0.023809523809523808,\n        'value_as_string': '02.38%'},\n       'comm_index': {'value': 0.1164021164021164}},\n      {'key': 'aju3407@gne.go.kr',\n       'doc_count': 1,\n       'comment': {'value': 0},\n       'reply': {'value': 0},\n       'good': {'value': 1},\n       'minmax_comment': {'value': 0.0, 'value_as_string': '00.00%'},\n       'minmax_reply': {'value': 0.0, 'value_as_string': '00.00%'},\n       'minmax_good': {'value': 0.023809523809523808,\n        'value_as_string': '02.38%'},\n       'comm_index': {'value': 0.023809523809523808}}]}},\n   {'key_as_string': '2021-11-08T00:00:00.000Z',\n    'key': 1636329600000,\n    'doc_count': 163,\n    'comm_per_student': {'doc_count_error_upper_bound': 0,\n     'sum_other_doc_count': 0,\n     'buckets': [{'key': 'aju3423@gne.go.kr',\n       'doc_count': 58,\n       'comment': {'value': 43},\n       'reply': {'value': 12},\n       'good': {'value': 15},\n       'minmax_comment': {'value': 1.0, 'value_as_string': '100.00%'},\n       'minmax_reply': {'value': 1.0, 'value_as_string': '100.00%'},\n       'minmax_good': {'value': 1.0, 'value_as_string': '100.00%'},\n       'comm_index': {'value': 3.0}},\n      {'key': 'aju3406@gne.go.kr',\n       'doc_count': 32,\n       'comment': {'value': 23},\n       'reply': {'value': 5},\n       'good': {'value': 9},\n       'minmax_comment': {'value': 0.5348837209302325,\n        'value_as_string': '53.49%'},\n       'minmax_reply': {'value': 0.4166666666666667,\n        'value_as_string': '41.67%'},\n       'minmax_good': {'value': 0.6, 'value_as_string': '60.00%'},\n       'comm_index': {'value': 1.5515503875968992}},\n      {'key': 'aju3425@gne.go.kr',\n       'doc_count': 20,\n       'comment': {'value': 19},\n       'reply': {'value': 7},\n       'good': {'value': 1},\n       'minmax_comment': {'value': 0.4418604651162791,\n        'value_as_string': '44.19%'},\n       'minmax_reply': {'value': 0.5833333333333334,\n        'value_as_string': '58.33%'},\n       'minmax_good': {'value': 0.06666666666666667,\n        'value_as_string': '06.67%'},\n       'comm_index': {'value': 1.091860465116279}},\n      {'key': 'aju3411@gne.go.kr',\n       'doc_count': 12,\n       'comment': {'value': 12},\n       'reply': {'value': 0},\n       'good': {'value': 0},\n       'minmax_comment': {'value': 0.27906976744186046,\n        'value_as_string': '27.91%'},\n       'minmax_reply': {'value': 0.0, 'value_as_string': '00.00%'},\n       'minmax_good': {'value': 0.0, 'value_as_string': '00.00%'},\n       'comm_index': {'value': 0.27906976744186046}},\n      {'key': 'aju3405@gne.go.kr',\n       'doc_count': 8,\n       'comment': {'value': 8},\n       'reply': {'value': 3},\n       'good': {'value': 0},\n       'minmax_comment': {'value': 0.18604651162790697,\n        'value_as_string': '18.60%'},\n       'minmax_reply': {'value': 0.25, 'value_as_string': '25.00%'},\n       'minmax_good': {'value': 0.0, 'value_as_string': '00.00%'},\n       'comm_index': {'value': 0.436046511627907}},\n      {'key': 'aju3401@gne.go.kr',\n       'doc_count': 4,\n       'comment': {'value': 3},\n       'reply': {'value': 1},\n       'good': {'value': 1},\n       'minmax_comment': {'value': 0.06976744186046512,\n        'value_as_string': '06.98%'},\n       'minmax_reply': {'value': 0.08333333333333333,\n        'value_as_string': '08.33%'},\n       'minmax_good': {'value': 0.06666666666666667,\n        'value_as_string': '06.67%'},\n       'comm_index': {'value': 0.2197674418604651}},\n      {'key': 'aju3414@gne.go.kr',\n       'doc_count': 3,\n       'comment': {'value': 3},\n       'reply': {'value': 0},\n       'good': {'value': 0},\n       'minmax_comment': {'value': 0.06976744186046512,\n        'value_as_string': '06.98%'},\n       'minmax_reply': {'value': 0.0, 'value_as_string': '00.00%'},\n       'minmax_good': {'value': 0.0, 'value_as_string': '00.00%'},\n       'comm_index': {'value': 0.06976744186046512}},\n      {'key': 'aju3412@gne.go.kr',\n       'doc_count': 1,\n       'comment': {'value': 0},\n       'reply': {'value': 0},\n       'good': {'value': 1},\n       'minmax_comment': {'value': 0.0, 'value_as_string': '00.00%'},\n       'minmax_reply': {'value': 0.0, 'value_as_string': '00.00%'},\n       'minmax_good': {'value': 0.06666666666666667,\n        'value_as_string': '06.67%'},\n       'comm_index': {'value': 0.06666666666666667}}]}},\n   {'key_as_string': '2021-11-15T00:00:00.000Z',\n    'key': 1636934400000,\n    'doc_count': 382,\n    'comm_per_student': {'doc_count_error_upper_bound': 0,\n     'sum_other_doc_count': 0,\n     'buckets': [{'key': 'aju3423@gne.go.kr',\n       'doc_count': 154,\n       'comment': {'value': 115},\n       'reply': {'value': 15},\n       'good': {'value': 39},\n       'minmax_comment': {'value': 1.0, 'value_as_string': '100.00%'},\n       'minmax_reply': {'value': 0.5555555555555556,\n        'value_as_string': '55.56%'},\n       'minmax_good': {'value': 1.0, 'value_as_string': '100.00%'},\n       'comm_index': {'value': 2.5555555555555554}},\n      {'key': 'aju3406@gne.go.kr',\n       'doc_count': 74,\n       'comment': {'value': 68},\n       'reply': {'value': 27},\n       'good': {'value': 6},\n       'minmax_comment': {'value': 0.591304347826087,\n        'value_as_string': '59.13%'},\n       'minmax_reply': {'value': 1.0, 'value_as_string': '100.00%'},\n       'minmax_good': {'value': 0.15384615384615385,\n        'value_as_string': '15.38%'},\n       'comm_index': {'value': 1.7451505016722408}},\n      {'key': 'aju3405@gne.go.kr',\n       'doc_count': 43,\n       'comment': {'value': 27},\n       'reply': {'value': 16},\n       'good': {'value': 16},\n       'minmax_comment': {'value': 0.23478260869565218,\n        'value_as_string': '23.48%'},\n       'minmax_reply': {'value': 0.5925925925925926,\n        'value_as_string': '59.26%'},\n       'minmax_good': {'value': 0.41025641025641024,\n        'value_as_string': '41.03%'},\n       'comm_index': {'value': 1.2376316115446548}},\n      {'key': 'aju3401@gne.go.kr',\n       'doc_count': 20,\n       'comment': {'value': 20},\n       'reply': {'value': 2},\n       'good': {'value': 0},\n       'minmax_comment': {'value': 0.17391304347826086,\n        'value_as_string': '17.39%'},\n       'minmax_reply': {'value': 0.07407407407407407,\n        'value_as_string': '07.41%'},\n       'minmax_good': {'value': 0.0, 'value_as_string': '00.00%'},\n       'comm_index': {'value': 0.24798711755233493}},\n      {'key': 'aju3411@gne.go.kr',\n       'doc_count': 14,\n       'comment': {'value': 12},\n       'reply': {'value': 0},\n       'good': {'value': 2},\n       'minmax_comment': {'value': 0.10434782608695652,\n        'value_as_string': '10.43%'},\n       'minmax_reply': {'value': 0.0, 'value_as_string': '00.00%'},\n       'minmax_good': {'value': 0.05128205128205128,\n        'value_as_string': '05.13%'},\n       'comm_index': {'value': 0.1556298773690078}},\n      {'key': 'aju3417@gne.go.kr',\n       'doc_count': 6,\n       'comment': {'value': 6},\n       'reply': {'value': 2},\n       'good': {'value': 0},\n       'minmax_comment': {'value': 0.05217391304347826,\n        'value_as_string': '05.22%'},\n       'minmax_reply': {'value': 0.07407407407407407,\n        'value_as_string': '07.41%'},\n       'minmax_good': {'value': 0.0, 'value_as_string': '00.00%'},\n       'comm_index': {'value': 0.12624798711755233}},\n      {'key': 'aju3412@gne.go.kr',\n       'doc_count': 5,\n       'comment': {'value': 1},\n       'reply': {'value': 0},\n       'good': {'value': 4},\n       'minmax_comment': {'value': 0.008695652173913044,\n        'value_as_string': '00.87%'},\n       'minmax_reply': {'value': 0.0, 'value_as_string': '00.00%'},\n       'minmax_good': {'value': 0.10256410256410256,\n        'value_as_string': '10.26%'},\n       'comm_index': {'value': 0.11125975473801561}},\n      {'key': 'aju3402@gne.go.kr',\n       'doc_count': 1,\n       'comment': {'value': 1},\n       'reply': {'value': 0},\n       'good': {'value': 0},\n       'minmax_comment': {'value': 0.008695652173913044,\n        'value_as_string': '00.87%'},\n       'minmax_reply': {'value': 0.0, 'value_as_string': '00.00%'},\n       'minmax_good': {'value': 0.0, 'value_as_string': '00.00%'},\n       'comm_index': {'value': 0.008695652173913044}},\n      {'key': 'aju3416@gne.go.kr',\n       'doc_count': 1,\n       'comment': {'value': 0},\n       'reply': {'value': 0},\n       'good': {'value': 1},\n       'minmax_comment': {'value': 0.0, 'value_as_string': '00.00%'},\n       'minmax_reply': {'value': 0.0, 'value_as_string': '00.00%'},\n       'minmax_good': {'value': 0.02564102564102564,\n        'value_as_string': '02.56%'},\n       'comm_index': {'value': 0.02564102564102564}}]}},\n   {'key_as_string': '2021-11-22T00:00:00.000Z',\n    'key': 1637539200000,\n    'doc_count': 222,\n    'comm_per_student': {'doc_count_error_upper_bound': 0,\n     'sum_other_doc_count': 0,\n     'buckets': [{'key': 'aju3423@gne.go.kr',\n       'doc_count': 102,\n       'comment': {'value': 61},\n       'reply': {'value': 7},\n       'good': {'value': 41},\n       'minmax_comment': {'value': 1.0, 'value_as_string': '100.00%'},\n       'minmax_reply': {'value': 0.7777777777777778,\n        'value_as_string': '77.78%'},\n       'minmax_good': {'value': 1.0, 'value_as_string': '100.00%'},\n       'comm_index': {'value': 2.7777777777777777}},\n      {'key': 'aju3406@gne.go.kr',\n       'doc_count': 51,\n       'comment': {'value': 32},\n       'reply': {'value': 9},\n       'good': {'value': 19},\n       'minmax_comment': {'value': 0.5166666666666667,\n        'value_as_string': '51.67%'},\n       'minmax_reply': {'value': 1.0, 'value_as_string': '100.00%'},\n       'minmax_good': {'value': 0.4634146341463415,\n        'value_as_string': '46.34%'},\n       'comm_index': {'value': 1.980081300813008}},\n      {'key': 'aju3412@gne.go.kr',\n       'doc_count': 15,\n       'comment': {'value': 12},\n       'reply': {'value': 0},\n       'good': {'value': 3},\n       'minmax_comment': {'value': 0.18333333333333332,\n        'value_as_string': '18.33%'},\n       'minmax_reply': {'value': 0.0, 'value_as_string': '00.00%'},\n       'minmax_good': {'value': 0.07317073170731707,\n        'value_as_string': '07.32%'},\n       'comm_index': {'value': 0.2565040650406504}},\n      {'key': 'aju3405@gne.go.kr',\n       'doc_count': 11,\n       'comment': {'value': 3},\n       'reply': {'value': 1},\n       'good': {'value': 8},\n       'minmax_comment': {'value': 0.03333333333333333,\n        'value_as_string': '03.33%'},\n       'minmax_reply': {'value': 0.1111111111111111,\n        'value_as_string': '11.11%'},\n       'minmax_good': {'value': 0.1951219512195122,\n        'value_as_string': '19.51%'},\n       'comm_index': {'value': 0.33956639566395663}},\n      {'key': 'aju3401@gne.go.kr',\n       'doc_count': 3,\n       'comment': {'value': 3},\n       'reply': {'value': 0},\n       'good': {'value': 0},\n       'minmax_comment': {'value': 0.03333333333333333,\n        'value_as_string': '03.33%'},\n       'minmax_reply': {'value': 0.0, 'value_as_string': '00.00%'},\n       'minmax_good': {'value': 0.0, 'value_as_string': '00.00%'},\n       'comm_index': {'value': 0.03333333333333333}},\n      {'key': 'aju3417@gne.go.kr',\n       'doc_count': 1,\n       'comment': {'value': 1},\n       'reply': {'value': 0},\n       'good': {'value': 0},\n       'minmax_comment': {'value': 0.0, 'value_as_string': '00.00%'},\n       'minmax_reply': {'value': 0.0, 'value_as_string': '00.00%'},\n       'minmax_good': {'value': 0.0, 'value_as_string': '00.00%'},\n       'comm_index': {'value': 0.0}}]}},\n   {'key_as_string': '2021-11-29T00:00:00.000Z',\n    'key': 1638144000000,\n    'doc_count': 17,\n    'comm_per_student': {'doc_count_error_upper_bound': 0,\n     'sum_other_doc_count': 0,\n     'buckets': [{'key': 'aju3423@gne.go.kr',\n       'doc_count': 13,\n       'comment': {'value': 7},\n       'reply': {'value': 3},\n       'good': {'value': 6},\n       'minmax_comment': {'value': 1.0, 'value_as_string': '100.00%'},\n       'minmax_reply': {'value': 1.0, 'value_as_string': '100.00%'},\n       'minmax_good': {'value': 1.0, 'value_as_string': '100.00%'},\n       'comm_index': {'value': 3.0}},\n      {'key': 'aju3401@gne.go.kr',\n       'doc_count': 1,\n       'comment': {'value': 1},\n       'reply': {'value': 0},\n       'good': {'value': 0},\n       'minmax_comment': {'value': 0.0, 'value_as_string': '00.00%'},\n       'minmax_reply': {'value': 0.0, 'value_as_string': '00.00%'},\n       'minmax_good': {'value': 0.0, 'value_as_string': '00.00%'},\n       'comm_index': {'value': 0.0}}]}}]}}"
     },
     "execution_count": 17,
     "metadata": {},
     "output_type": "execute_result"
    }
   ],
   "source": [
    "result"
   ],
   "metadata": {
    "collapsed": false,
    "pycharm": {
     "name": "#%%\n"
    }
   }
  },
  {
   "cell_type": "code",
   "execution_count": null,
   "outputs": [],
   "source": [],
   "metadata": {
    "collapsed": false,
    "pycharm": {
     "name": "#%%\n"
    }
   }
  }
 ],
 "metadata": {
  "kernelspec": {
   "display_name": "Python 3",
   "language": "python",
   "name": "python3"
  },
  "language_info": {
   "codemirror_mode": {
    "name": "ipython",
    "version": 2
   },
   "file_extension": ".py",
   "mimetype": "text/x-python",
   "name": "python",
   "nbconvert_exporter": "python",
   "pygments_lexer": "ipython2",
   "version": "2.7.6"
  }
 },
 "nbformat": 4,
 "nbformat_minor": 0
}